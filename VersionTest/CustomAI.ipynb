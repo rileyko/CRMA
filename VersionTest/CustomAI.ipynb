{
 "cells": [
  {
   "attachments": {},
   "cell_type": "markdown",
   "metadata": {},
   "source": [
    "### Step2. 커스텀 모델 만들기 (tensorflow)"
   ]
  },
  {
   "cell_type": "code",
   "execution_count": 1,
   "metadata": {},
   "outputs": [],
   "source": [
    "# 데이터 분할\n",
    "from read_dataset import read_dataset\n",
    "DATA_FILE = '../Datasets/Opportunities.csv'\n",
    "\n",
    "dataset = read_dataset(DATA_FILE)"
   ]
  },
  {
   "cell_type": "code",
   "execution_count": 2,
   "metadata": {},
   "outputs": [],
   "source": [
    "# 독립, 종속변수 분리\n",
    "X_cols = dataset[['Amount','ExpectedRevenue','TotalOpportunityQuantity']]\n",
    "y_cols = dataset[['AE','Alliances','BDR','Marketing']]"
   ]
  },
  {
   "cell_type": "code",
   "execution_count": 3,
   "metadata": {},
   "outputs": [],
   "source": [
    "# 학습용, 검증용 분리\n",
    "from sklearn.model_selection import train_test_split\n",
    "X_train, X_test, y_train, y_test = train_test_split(X_cols, y_cols, test_size=0.2, shuffle=True, stratify=y_cols, random_state=200)"
   ]
  },
  {
   "cell_type": "code",
   "execution_count": 4,
   "metadata": {},
   "outputs": [
    {
     "name": "stderr",
     "output_type": "stream",
     "text": [
      "2023-02-28 09:02:15.698766: I tensorflow/core/platform/cpu_feature_guard.cc:151] This TensorFlow binary is optimized with oneAPI Deep Neural Network Library (oneDNN) to use the following CPU instructions in performance-critical operations:  SSE4.1 SSE4.2\n",
      "To enable them in other operations, rebuild TensorFlow with the appropriate compiler flags.\n"
     ]
    }
   ],
   "source": [
    "import tensorflow as tf\n",
    "X = tf.keras.layers.Input(shape=[3])\n",
    "y = tf.keras.layers.Dense(4, activation='softmax')(X)\n",
    "model = tf.keras.models.Model(X,y)\n",
    "model.compile(loss='categorical_crossentropy', metrics='accuracy')\n"
   ]
  },
  {
   "cell_type": "code",
   "execution_count": 5,
   "metadata": {},
   "outputs": [
    {
     "name": "stdout",
     "output_type": "stream",
     "text": [
      "Epoch 1/15\n",
      "9/9 [==============================] - 0s 13ms/step - loss: 850987.1875 - accuracy: 0.2846 - val_loss: 792631.7500 - val_accuracy: 0.3485\n",
      "Epoch 2/15\n",
      "9/9 [==============================] - 0s 3ms/step - loss: 808878.9375 - accuracy: 0.2846 - val_loss: 760379.6250 - val_accuracy: 0.3485\n",
      "Epoch 3/15\n",
      "9/9 [==============================] - 0s 3ms/step - loss: 773884.0625 - accuracy: 0.2846 - val_loss: 730971.2500 - val_accuracy: 0.3485\n",
      "Epoch 4/15\n",
      "9/9 [==============================] - 0s 3ms/step - loss: 742571.0000 - accuracy: 0.2846 - val_loss: 704451.8750 - val_accuracy: 0.3485\n",
      "Epoch 5/15\n",
      "9/9 [==============================] - 0s 3ms/step - loss: 712038.6875 - accuracy: 0.2846 - val_loss: 676678.0000 - val_accuracy: 0.3485\n",
      "Epoch 6/15\n",
      "9/9 [==============================] - 0s 3ms/step - loss: 680885.6875 - accuracy: 0.2846 - val_loss: 646627.0000 - val_accuracy: 0.3485\n",
      "Epoch 7/15\n",
      "9/9 [==============================] - 0s 3ms/step - loss: 648446.5000 - accuracy: 0.2846 - val_loss: 622471.3125 - val_accuracy: 0.3485\n",
      "Epoch 8/15\n",
      "9/9 [==============================] - 0s 2ms/step - loss: 619877.6250 - accuracy: 0.2846 - val_loss: 592330.1875 - val_accuracy: 0.3485\n",
      "Epoch 9/15\n",
      "9/9 [==============================] - 0s 3ms/step - loss: 587466.1875 - accuracy: 0.2846 - val_loss: 566338.5000 - val_accuracy: 0.3485\n",
      "Epoch 10/15\n",
      "9/9 [==============================] - 0s 3ms/step - loss: 558444.0625 - accuracy: 0.2846 - val_loss: 539700.0625 - val_accuracy: 0.3485\n",
      "Epoch 11/15\n",
      "9/9 [==============================] - 0s 2ms/step - loss: 528582.9375 - accuracy: 0.2846 - val_loss: 511393.2188 - val_accuracy: 0.3485\n",
      "Epoch 12/15\n",
      "9/9 [==============================] - 0s 2ms/step - loss: 497167.3125 - accuracy: 0.2846 - val_loss: 484185.6875 - val_accuracy: 0.3485\n",
      "Epoch 13/15\n",
      "9/9 [==============================] - 0s 2ms/step - loss: 466200.6562 - accuracy: 0.2846 - val_loss: 455559.1250 - val_accuracy: 0.3485\n",
      "Epoch 14/15\n",
      "9/9 [==============================] - 0s 3ms/step - loss: 434658.1875 - accuracy: 0.2846 - val_loss: 428662.9375 - val_accuracy: 0.3485\n",
      "Epoch 15/15\n",
      "9/9 [==============================] - 0s 3ms/step - loss: 405003.8750 - accuracy: 0.2962 - val_loss: 410010.3438 - val_accuracy: 0.3485\n"
     ]
    },
    {
     "data": {
      "text/plain": [
       "<keras.callbacks.History at 0x7f7ffb593b10>"
      ]
     },
     "execution_count": 5,
     "metadata": {},
     "output_type": "execute_result"
    }
   ],
   "source": [
    "model.fit(X_cols, y_cols, epochs=15, validation_split=0.2)"
   ]
  },
  {
   "cell_type": "code",
   "execution_count": 6,
   "metadata": {},
   "outputs": [
    {
     "name": "stdout",
     "output_type": "stream",
     "text": [
      "11/11 [==============================] - 0s 914us/step - loss: 398174.9062 - accuracy: 0.3558\n",
      "[398174.90625, 0.3558282256126404]\n"
     ]
    }
   ],
   "source": [
    "print(model.evaluate(x=X_cols.values, y=y_cols.values))"
   ]
  },
  {
   "cell_type": "code",
   "execution_count": 7,
   "metadata": {},
   "outputs": [
    {
     "data": {
      "text/plain": [
       "array([[1., 0., 0., 0.],\n",
       "       [1., 0., 0., 0.],\n",
       "       [1., 0., 0., 0.],\n",
       "       [1., 0., 0., 0.],\n",
       "       [1., 0., 0., 0.]], dtype=float32)"
      ]
     },
     "execution_count": 7,
     "metadata": {},
     "output_type": "execute_result"
    }
   ],
   "source": [
    "model.predict(X_cols[-5:])"
   ]
  },
  {
   "cell_type": "code",
   "execution_count": 8,
   "metadata": {},
   "outputs": [],
   "source": [
    "MODEL_PATH = '../VersionTest/multiclass_model'\n",
    "# model.save(MODEL_PATH)"
   ]
  }
 ],
 "metadata": {
  "kernelspec": {
   "display_name": "CRMA",
   "language": "python",
   "name": "python3"
  },
  "language_info": {
   "codemirror_mode": {
    "name": "ipython",
    "version": 3
   },
   "file_extension": ".py",
   "mimetype": "text/x-python",
   "name": "python",
   "nbconvert_exporter": "python",
   "pygments_lexer": "ipython3",
   "version": "3.7.9"
  },
  "orig_nbformat": 4,
  "vscode": {
   "interpreter": {
    "hash": "4058051cca1c5268e0446aec684eabcd00b1467a5fba65b511100794bb3f66f1"
   }
  }
 },
 "nbformat": 4,
 "nbformat_minor": 2
}
