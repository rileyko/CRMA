{
 "cells": [
  {
   "attachments": {},
   "cell_type": "markdown",
   "metadata": {},
   "source": [
    "### Step2. 커스텀 모델 만들기 (tensorflow)"
   ]
  },
  {
   "cell_type": "code",
   "execution_count": 1,
   "metadata": {},
   "outputs": [],
   "source": [
    "# 데이터 분할\n",
    "from read_dataset import read_dataset\n",
    "DATA_FILE = '../Datasets/Opportunities.csv'\n",
    "\n",
    "dataset = read_dataset(DATA_FILE)"
   ]
  },
  {
   "cell_type": "code",
   "execution_count": 2,
   "metadata": {},
   "outputs": [],
   "source": [
    "# 독립, 종속변수 분리\n",
    "X_cols = dataset[['Amount','ExpectedRevenue','TotalOpportunityQuantity']]\n",
    "y_cols = dataset[['AE','Alliances','BDR','Marketing']]"
   ]
  },
  {
   "cell_type": "code",
   "execution_count": 3,
   "metadata": {},
   "outputs": [],
   "source": [
    "# 학습용, 검증용 분리\n",
    "from sklearn.model_selection import train_test_split\n",
    "X_train, X_test, y_train, y_test = train_test_split(X_cols, y_cols, test_size=0.2, shuffle=True, stratify=y_cols, random_state=200)"
   ]
  },
  {
   "cell_type": "code",
   "execution_count": 4,
   "metadata": {},
   "outputs": [
    {
     "name": "stderr",
     "output_type": "stream",
     "text": [
      "2023-02-27 10:38:45.658956: I tensorflow/core/platform/cpu_feature_guard.cc:151] This TensorFlow binary is optimized with oneAPI Deep Neural Network Library (oneDNN) to use the following CPU instructions in performance-critical operations:  SSE4.1 SSE4.2\n",
      "To enable them in other operations, rebuild TensorFlow with the appropriate compiler flags.\n"
     ]
    }
   ],
   "source": [
    "import tensorflow as tf\n",
    "X = tf.keras.layers.Input(shape=[3])\n",
    "y = tf.keras.layers.Dense(4, activation='softmax')(X)\n",
    "model = tf.keras.models.Model(X,y)\n",
    "model.compile(loss='categorical_crossentropy', metrics='accuracy')\n"
   ]
  },
  {
   "cell_type": "code",
   "execution_count": 5,
   "metadata": {},
   "outputs": [
    {
     "name": "stdout",
     "output_type": "stream",
     "text": [
      "Epoch 1/15\n",
      "9/9 [==============================] - 0s 14ms/step - loss: 1027735.6875 - accuracy: 0.1308 - val_loss: 990272.1250 - val_accuracy: 0.0606\n",
      "Epoch 2/15\n",
      "9/9 [==============================] - 0s 3ms/step - loss: 979920.3750 - accuracy: 0.1308 - val_loss: 939788.5000 - val_accuracy: 0.0606\n",
      "Epoch 3/15\n",
      "9/9 [==============================] - 0s 3ms/step - loss: 937720.1250 - accuracy: 0.1308 - val_loss: 902183.8750 - val_accuracy: 0.0606\n",
      "Epoch 4/15\n",
      "9/9 [==============================] - 0s 3ms/step - loss: 902227.4375 - accuracy: 0.1308 - val_loss: 864545.6875 - val_accuracy: 0.0606\n",
      "Epoch 5/15\n",
      "9/9 [==============================] - 0s 3ms/step - loss: 866694.0000 - accuracy: 0.1308 - val_loss: 824142.6875 - val_accuracy: 0.0606\n",
      "Epoch 6/15\n",
      "9/9 [==============================] - 0s 3ms/step - loss: 830770.0000 - accuracy: 0.1308 - val_loss: 785213.9375 - val_accuracy: 0.0606\n",
      "Epoch 7/15\n",
      "9/9 [==============================] - 0s 3ms/step - loss: 794350.2500 - accuracy: 0.1308 - val_loss: 747233.6250 - val_accuracy: 0.0606\n",
      "Epoch 8/15\n",
      "9/9 [==============================] - 0s 3ms/step - loss: 759341.7500 - accuracy: 0.1308 - val_loss: 707425.5000 - val_accuracy: 0.0606\n",
      "Epoch 9/15\n",
      "9/9 [==============================] - 0s 3ms/step - loss: 723594.0000 - accuracy: 0.1308 - val_loss: 668529.0000 - val_accuracy: 0.0606\n",
      "Epoch 10/15\n",
      "9/9 [==============================] - 0s 5ms/step - loss: 687532.9375 - accuracy: 0.1308 - val_loss: 631283.4375 - val_accuracy: 0.0606\n",
      "Epoch 11/15\n",
      "9/9 [==============================] - 0s 3ms/step - loss: 656017.5625 - accuracy: 0.1808 - val_loss: 609308.8750 - val_accuracy: 0.3636\n",
      "Epoch 12/15\n",
      "9/9 [==============================] - 0s 3ms/step - loss: 637334.2500 - accuracy: 0.1654 - val_loss: 592929.9375 - val_accuracy: 0.0606\n",
      "Epoch 13/15\n",
      "9/9 [==============================] - 0s 3ms/step - loss: 617943.1250 - accuracy: 0.1846 - val_loss: 572569.8125 - val_accuracy: 0.1212\n",
      "Epoch 14/15\n",
      "9/9 [==============================] - 0s 2ms/step - loss: 599074.0000 - accuracy: 0.1731 - val_loss: 554059.5000 - val_accuracy: 0.0606\n",
      "Epoch 15/15\n",
      "9/9 [==============================] - 0s 2ms/step - loss: 579301.1250 - accuracy: 0.2038 - val_loss: 536334.1875 - val_accuracy: 0.3333\n"
     ]
    },
    {
     "data": {
      "text/plain": [
       "<keras.callbacks.History at 0x7fe4904b2410>"
      ]
     },
     "execution_count": 5,
     "metadata": {},
     "output_type": "execute_result"
    }
   ],
   "source": [
    "model.fit(X_cols, y_cols, epochs=15, validation_split=0.2)"
   ]
  },
  {
   "cell_type": "code",
   "execution_count": 6,
   "metadata": {},
   "outputs": [
    {
     "name": "stdout",
     "output_type": "stream",
     "text": [
      "11/11 [==============================] - 0s 745us/step - loss: 561679.1875 - accuracy: 0.2577\n",
      "[561679.1875, 0.25766870379447937]\n"
     ]
    }
   ],
   "source": [
    "print(model.evaluate(x=X_cols.values, y=y_cols.values))"
   ]
  },
  {
   "cell_type": "code",
   "execution_count": 7,
   "metadata": {},
   "outputs": [
    {
     "data": {
      "text/plain": [
       "array([[0., 0., 0., 1.],\n",
       "       [0., 0., 0., 1.],\n",
       "       [0., 0., 0., 1.],\n",
       "       [0., 0., 0., 1.],\n",
       "       [0., 0., 0., 1.]], dtype=float32)"
      ]
     },
     "execution_count": 7,
     "metadata": {},
     "output_type": "execute_result"
    }
   ],
   "source": [
    "model.predict(X_cols[-5:])"
   ]
  },
  {
   "cell_type": "code",
   "execution_count": 8,
   "metadata": {},
   "outputs": [
    {
     "name": "stdout",
     "output_type": "stream",
     "text": [
      "INFO:tensorflow:Assets written to: ../VersionTest/assets\n"
     ]
    },
    {
     "name": "stderr",
     "output_type": "stream",
     "text": [
      "2023-02-27 10:38:46.732500: W tensorflow/python/util/util.cc:368] Sets are not currently considered sequences, but this may change in the future, so consider avoiding using them.\n"
     ]
    }
   ],
   "source": [
    "MODEL_PATH = '../VersionTest/'\n",
    "# model.save(MODEL_PATH)"
   ]
  }
 ],
 "metadata": {
  "kernelspec": {
   "display_name": "CRMA",
   "language": "python",
   "name": "python3"
  },
  "language_info": {
   "codemirror_mode": {
    "name": "ipython",
    "version": 3
   },
   "file_extension": ".py",
   "mimetype": "text/x-python",
   "name": "python",
   "nbconvert_exporter": "python",
   "pygments_lexer": "ipython3",
   "version": "3.7.9"
  },
  "orig_nbformat": 4,
  "vscode": {
   "interpreter": {
    "hash": "4058051cca1c5268e0446aec684eabcd00b1467a5fba65b511100794bb3f66f1"
   }
  }
 },
 "nbformat": 4,
 "nbformat_minor": 2
}
