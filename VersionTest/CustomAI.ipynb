{
 "cells": [
  {
   "attachments": {},
   "cell_type": "markdown",
   "metadata": {},
   "source": [
    "### Step2. 커스텀 모델 만들기 (tensorflow)"
   ]
  },
  {
   "cell_type": "code",
   "execution_count": 9,
   "metadata": {},
   "outputs": [],
   "source": [
    "# 데이터 분할\n",
    "from read_dataset import read_dataset\n",
    "DATA_FILE = '../Datasets/Opportunities.csv'\n",
    "\n",
    "dataset = read_dataset(DATA_FILE)"
   ]
  },
  {
   "cell_type": "code",
   "execution_count": 10,
   "metadata": {},
   "outputs": [],
   "source": [
    "# 독립, 종속변수 분리\n",
    "X_cols = dataset[['Amount','ExpectedRevenue','TotalOpportunityQuantity']]\n",
    "y_cols = dataset[['AE','Alliances','BDR','Marketing']]"
   ]
  },
  {
   "cell_type": "code",
   "execution_count": 11,
   "metadata": {},
   "outputs": [],
   "source": [
    "# 학습용, 검증용 분리\n",
    "from sklearn.model_selection import train_test_split\n",
    "X_train, X_test, y_train, y_test = train_test_split(X_cols, y_cols, test_size=0.2, shuffle=True, stratify=y_cols, random_state=200)"
   ]
  },
  {
   "cell_type": "code",
   "execution_count": 12,
   "metadata": {},
   "outputs": [],
   "source": [
    "import tensorflow as tf\n",
    "X = tf.keras.layers.Input(shape=[3])\n",
    "y = tf.keras.layers.Dense(4, activation='softmax')(X)\n",
    "model = tf.keras.models.Model(X,y)\n",
    "model.compile(loss='categorical_crossentropy', metrics='accuracy')\n"
   ]
  },
  {
   "cell_type": "code",
   "execution_count": 13,
   "metadata": {},
   "outputs": [
    {
     "name": "stdout",
     "output_type": "stream",
     "text": [
      "Epoch 1/15\n",
      "9/9 [==============================] - 0s 13ms/step - loss: 1291925.2500 - accuracy: 0.2269 - val_loss: 1250231.1250 - val_accuracy: 0.2424\n",
      "Epoch 2/15\n",
      "9/9 [==============================] - 0s 3ms/step - loss: 1249123.6250 - accuracy: 0.2269 - val_loss: 1212406.5000 - val_accuracy: 0.2424\n",
      "Epoch 3/15\n",
      "9/9 [==============================] - 0s 3ms/step - loss: 1213528.5000 - accuracy: 0.2269 - val_loss: 1179621.2500 - val_accuracy: 0.2424\n",
      "Epoch 4/15\n",
      "9/9 [==============================] - 0s 3ms/step - loss: 1181431.3750 - accuracy: 0.2269 - val_loss: 1145287.8750 - val_accuracy: 0.2424\n",
      "Epoch 5/15\n",
      "9/9 [==============================] - 0s 3ms/step - loss: 1147785.8750 - accuracy: 0.2269 - val_loss: 1111130.0000 - val_accuracy: 0.2424\n",
      "Epoch 6/15\n",
      "9/9 [==============================] - 0s 2ms/step - loss: 1113848.7500 - accuracy: 0.2269 - val_loss: 1079907.3750 - val_accuracy: 0.2424\n",
      "Epoch 7/15\n",
      "9/9 [==============================] - 0s 3ms/step - loss: 1082591.1250 - accuracy: 0.2269 - val_loss: 1043482.6875 - val_accuracy: 0.2424\n",
      "Epoch 8/15\n",
      "9/9 [==============================] - 0s 3ms/step - loss: 1048307.1875 - accuracy: 0.2269 - val_loss: 1012950.2500 - val_accuracy: 0.2424\n",
      "Epoch 9/15\n",
      "9/9 [==============================] - 0s 3ms/step - loss: 1017056.0625 - accuracy: 0.2269 - val_loss: 976864.0625 - val_accuracy: 0.2424\n",
      "Epoch 10/15\n",
      "9/9 [==============================] - 0s 3ms/step - loss: 982743.0625 - accuracy: 0.2269 - val_loss: 947171.0000 - val_accuracy: 0.2424\n",
      "Epoch 11/15\n",
      "9/9 [==============================] - 0s 3ms/step - loss: 952153.5625 - accuracy: 0.2269 - val_loss: 914764.6250 - val_accuracy: 0.2424\n",
      "Epoch 12/15\n",
      "9/9 [==============================] - 0s 2ms/step - loss: 919836.1875 - accuracy: 0.2269 - val_loss: 879545.3750 - val_accuracy: 0.2424\n",
      "Epoch 13/15\n",
      "9/9 [==============================] - 0s 2ms/step - loss: 885449.6875 - accuracy: 0.2269 - val_loss: 845216.6875 - val_accuracy: 0.2424\n",
      "Epoch 14/15\n",
      "9/9 [==============================] - 0s 3ms/step - loss: 851609.7500 - accuracy: 0.2269 - val_loss: 811884.3750 - val_accuracy: 0.2424\n",
      "Epoch 15/15\n",
      "9/9 [==============================] - 0s 2ms/step - loss: 819309.9375 - accuracy: 0.2269 - val_loss: 777559.3750 - val_accuracy: 0.2424\n"
     ]
    },
    {
     "data": {
      "text/plain": [
       "<keras.callbacks.History at 0x7fe4b1ee8390>"
      ]
     },
     "execution_count": 13,
     "metadata": {},
     "output_type": "execute_result"
    }
   ],
   "source": [
    "model.fit(X_cols, y_cols, epochs=15, validation_split=0.2)"
   ]
  },
  {
   "cell_type": "code",
   "execution_count": 14,
   "metadata": {},
   "outputs": [
    {
     "name": "stdout",
     "output_type": "stream",
     "text": [
      "11/11 [==============================] - 0s 852us/step - loss: 793307.0625 - accuracy: 0.2301\n",
      "[793307.0625, 0.2300613522529602]\n"
     ]
    }
   ],
   "source": [
    "print(model.evaluate(x=X_cols.values, y=y_cols.values))"
   ]
  },
  {
   "cell_type": "code",
   "execution_count": 15,
   "metadata": {},
   "outputs": [
    {
     "data": {
      "text/plain": [
       "array([[0., 0., 1., 0.],\n",
       "       [0., 0., 1., 0.],\n",
       "       [0., 0., 1., 0.],\n",
       "       [0., 0., 1., 0.],\n",
       "       [0., 0., 1., 0.]], dtype=float32)"
      ]
     },
     "execution_count": 15,
     "metadata": {},
     "output_type": "execute_result"
    }
   ],
   "source": [
    "model.predict(X_cols[-5:])"
   ]
  },
  {
   "cell_type": "code",
   "execution_count": 16,
   "metadata": {},
   "outputs": [
    {
     "name": "stdout",
     "output_type": "stream",
     "text": [
      "INFO:tensorflow:Assets written to: ../VersionTest/multiclass_model/assets\n"
     ]
    }
   ],
   "source": [
    "MODEL_PATH = '../VersionTest/multiclass_model'\n",
    "# model.save(MODEL_PATH)"
   ]
  }
 ],
 "metadata": {
  "kernelspec": {
   "display_name": "CRMA",
   "language": "python",
   "name": "python3"
  },
  "language_info": {
   "codemirror_mode": {
    "name": "ipython",
    "version": 3
   },
   "file_extension": ".py",
   "mimetype": "text/x-python",
   "name": "python",
   "nbconvert_exporter": "python",
   "pygments_lexer": "ipython3",
   "version": "3.7.9"
  },
  "orig_nbformat": 4,
  "vscode": {
   "interpreter": {
    "hash": "4058051cca1c5268e0446aec684eabcd00b1467a5fba65b511100794bb3f66f1"
   }
  }
 },
 "nbformat": 4,
 "nbformat_minor": 2
}
